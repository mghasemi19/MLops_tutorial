{
 "cells": [
  {
   "cell_type": "code",
   "execution_count": null,
   "id": "44ca081c",
   "metadata": {},
   "outputs": [
    {
     "name": "stdout",
     "output_type": "stream",
     "text": [
      "macOS-11.7.10-x86_64-i386-64bit\n",
      "Python 3.9.10 (v3.9.10:f2f3f53782, Jan 13 2022, 16:55:46) \n",
      "[Clang 13.0.0 (clang-1300.0.29.30)]\n",
      "NumPy 1.25.2\n",
      "SciPy 1.9.3\n",
      "Shape of the training data\n",
      "(1300, 160)\n",
      "(1300,)\n"
     ]
    }
   ],
   "source": [
    "#!/usr/bin/python3\n",
    "# tain.py\n",
    "# Xavier Vasques 13/04/2021\n",
    "\n",
    "import platform; print(platform.platform())\n",
    "import sys; print(\"Python\", sys.version)\n",
    "import numpy; print(\"NumPy\", numpy.__version__)\n",
    "import scipy; print(\"SciPy\", scipy.__version__)\n",
    "\n",
    "import os\n",
    "import numpy as np\n",
    "from sklearn.discriminant_analysis import LinearDiscriminantAnalysis\n",
    "from sklearn.neural_network import MLPClassifier\n",
    "import pandas as pd\n",
    "from joblib import dump\n",
    "from sklearn import preprocessing\n",
    "\n",
    "def train():\n",
    "\n",
    "    # Load directory paths for persisting model\n",
    "    \n",
    "    MODEL_DIR = os.getenv(\"MODEL_DIR\", \"./models\")\n",
    "    MODEL_FILE_LDA = os.getenv(\"MODEL_FILE_LDA\", \"lda_model.joblib\")\n",
    "    MODEL_FILE_NN = os.getenv(\"MODEL_FILE_NN\", \"nn_model.joblib\")\n",
    "\n",
    "    MODEL_PATH_LDA = os.path.join(MODEL_DIR, MODEL_FILE_LDA)\n",
    "    MODEL_PATH_NN = os.path.join(MODEL_DIR, MODEL_FILE_NN)\n",
    "      \n",
    "    # Load, read and normalize training data\n",
    "    training = \"./train.csv\"\n",
    "    data_train = pd.read_csv(training)\n",
    "        \n",
    "    y_train = data_train['# Letter'].values\n",
    "    X_train = data_train.drop(data_train.loc[:, 'Line':'# Letter'].columns, axis = 1)\n",
    "\n",
    "    print(\"Shape of the training data\")\n",
    "    print(X_train.shape)\n",
    "    print(y_train.shape)\n",
    "        \n",
    "    # Data normalization (0,1)\n",
    "    X_train = preprocessing.normalize(X_train, norm='l2')\n",
    "    \n",
    "    # Models training\n",
    "    \n",
    "    # Linear Discrimant Analysis (Default parameters)\n",
    "    clf_lda = LinearDiscriminantAnalysis()\n",
    "    clf_lda.fit(X_train, y_train)\n",
    "    \n",
    "    # Save model\n",
    "    from joblib import dump\n",
    "    dump(clf_lda, MODEL_PATH_LDA)\n",
    "        \n",
    "    # Neural Networks multi-layer perceptron (MLP) algorithm\n",
    "    clf_NN = MLPClassifier(solver='adam', activation='relu', alpha=0.0001, hidden_layer_sizes=(500,), random_state=0, max_iter=1000)\n",
    "    clf_NN.fit(X_train, y_train)\n",
    "       \n",
    "    # Secord model\n",
    "    from joblib import dump, load\n",
    "    dump(clf_NN, MODEL_PATH_NN)\n",
    "        \n",
    "if __name__ == '__main__':\n",
    "    train()\n"
   ]
  }
 ],
 "metadata": {
  "kernelspec": {
   "display_name": "Python 3",
   "language": "python",
   "name": "python3"
  },
  "language_info": {
   "codemirror_mode": {
    "name": "ipython",
    "version": 3
   },
   "file_extension": ".py",
   "mimetype": "text/x-python",
   "name": "python",
   "nbconvert_exporter": "python",
   "pygments_lexer": "ipython3",
   "version": "3.9.10"
  }
 },
 "nbformat": 4,
 "nbformat_minor": 5
}
